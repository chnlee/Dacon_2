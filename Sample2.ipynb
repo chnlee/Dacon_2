{
 "cells": [
  {
   "cell_type": "code",
   "execution_count": 3,
   "id": "8b5eb8e6",
   "metadata": {},
   "outputs": [],
   "source": [
    "import pandas as pd\n",
    "import numpy as np\n",
    "import matplotlib.pyplot as plt\n",
    "import seaborn as sns\n",
    "from sklearn.preprocessing import LabelEncoder\n",
    "\n",
    "# 다운 받은 csv를 pandas의 DataFrame 형식으로 불러온다.\n",
    "train = pd.read_csv('train.csv')\n",
    "test = pd.read_csv('test.csv')\n",
    "train = train.drop('id',axis = 1)\n",
    "test = test.drop('id',axis = 1)"
   ]
  },
  {
   "cell_type": "code",
   "execution_count": 4,
   "id": "50e4f929",
   "metadata": {},
   "outputs": [
    {
     "name": "stdout",
     "output_type": "stream",
     "text": [
      "(114, 16)\n",
      "(228, 15)\n"
     ]
    }
   ],
   "source": [
    "train.fillna(train.mean(), inplace = True)\n",
    "test.fillna(train.mean(), inplace = True)\n",
    "train = pd.get_dummies(train)\n",
    "test = pd.get_dummies(test)\n",
    "\n",
    "print(train.shape)\n",
    "print(test.shape)"
   ]
  },
  {
   "cell_type": "code",
   "execution_count": 6,
   "id": "b33fa628",
   "metadata": {},
   "outputs": [],
   "source": [
    "discrete_names = ['Species', 'Island', 'Clutch Completion', 'Sex']\n",
    "continuous_names = ['Culmen Length (mm)', 'Culmen Depth (mm)', 'Flipper Length (mm)', 'Delta 15 N (o/oo)', 'Delta 13 C (o/oo)']"
   ]
  },
  {
   "cell_type": "code",
   "execution_count": 7,
   "id": "f2f1cb04",
   "metadata": {},
   "outputs": [
    {
     "data": {
      "text/html": [
       "<div>\n",
       "<style scoped>\n",
       "    .dataframe tbody tr th:only-of-type {\n",
       "        vertical-align: middle;\n",
       "    }\n",
       "\n",
       "    .dataframe tbody tr th {\n",
       "        vertical-align: top;\n",
       "    }\n",
       "\n",
       "    .dataframe thead th {\n",
       "        text-align: right;\n",
       "    }\n",
       "</style>\n",
       "<table border=\"1\" class=\"dataframe\">\n",
       "  <thead>\n",
       "    <tr style=\"text-align: right;\">\n",
       "      <th></th>\n",
       "      <th>Culmen Length (mm)</th>\n",
       "      <th>Culmen Depth (mm)</th>\n",
       "      <th>Flipper Length (mm)</th>\n",
       "      <th>Delta 15 N (o/oo)</th>\n",
       "      <th>Delta 13 C (o/oo)</th>\n",
       "    </tr>\n",
       "  </thead>\n",
       "  <tbody>\n",
       "    <tr>\n",
       "      <th>0</th>\n",
       "      <td>1.016685</td>\n",
       "      <td>-0.887255</td>\n",
       "      <td>1.161653</td>\n",
       "      <td>-0.775548</td>\n",
       "      <td>0.630951</td>\n",
       "    </tr>\n",
       "    <tr>\n",
       "      <th>1</th>\n",
       "      <td>0.922318</td>\n",
       "      <td>1.027037</td>\n",
       "      <td>-0.209242</td>\n",
       "      <td>1.601553</td>\n",
       "      <td>1.629486</td>\n",
       "    </tr>\n",
       "    <tr>\n",
       "      <th>2</th>\n",
       "      <td>0.091884</td>\n",
       "      <td>-1.352893</td>\n",
       "      <td>0.476205</td>\n",
       "      <td>-0.391149</td>\n",
       "      <td>-1.533908</td>\n",
       "    </tr>\n",
       "    <tr>\n",
       "      <th>3</th>\n",
       "      <td>-0.021357</td>\n",
       "      <td>-1.197680</td>\n",
       "      <td>0.750384</td>\n",
       "      <td>-0.962206</td>\n",
       "      <td>-0.523568</td>\n",
       "    </tr>\n",
       "    <tr>\n",
       "      <th>4</th>\n",
       "      <td>0.941191</td>\n",
       "      <td>-0.525091</td>\n",
       "      <td>1.504376</td>\n",
       "      <td>-0.635514</td>\n",
       "      <td>-1.325731</td>\n",
       "    </tr>\n",
       "  </tbody>\n",
       "</table>\n",
       "</div>"
      ],
      "text/plain": [
       "   Culmen Length (mm)  Culmen Depth (mm)  Flipper Length (mm)  \\\n",
       "0            1.016685          -0.887255             1.161653   \n",
       "1            0.922318           1.027037            -0.209242   \n",
       "2            0.091884          -1.352893             0.476205   \n",
       "3           -0.021357          -1.197680             0.750384   \n",
       "4            0.941191          -0.525091             1.504376   \n",
       "\n",
       "   Delta 15 N (o/oo)  Delta 13 C (o/oo)  \n",
       "0          -0.775548           0.630951  \n",
       "1           1.601553           1.629486  \n",
       "2          -0.391149          -1.533908  \n",
       "3          -0.962206          -0.523568  \n",
       "4          -0.635514          -1.325731  "
      ]
     },
     "execution_count": 7,
     "metadata": {},
     "output_type": "execute_result"
    }
   ],
   "source": [
    "from sklearn.preprocessing import StandardScaler\n",
    "\n",
    "scaler = StandardScaler()\n",
    "\n",
    "train_scaler = scaler.fit_transform(train[continuous_names])\n",
    "train[continuous_names] = pd.DataFrame(data=train_scaler, columns=continuous_names)\n",
    "\n",
    "test_scaler = scaler.transform(test[continuous_names])\n",
    "test[continuous_names] = pd.DataFrame(data=test_scaler, columns=continuous_names)\n",
    "\n",
    "train[continuous_names].head()"
   ]
  },
  {
   "cell_type": "code",
   "execution_count": 8,
   "id": "abb27115",
   "metadata": {},
   "outputs": [],
   "source": [
    "train_label = train['Body Mass (g)']\n",
    "train.drop(['Body Mass (g)'], axis = 1, inplace = True)"
   ]
  },
  {
   "cell_type": "code",
   "execution_count": 9,
   "id": "578e6d54",
   "metadata": {},
   "outputs": [
    {
     "name": "stdout",
     "output_type": "stream",
     "text": [
      "alpha 값  0 일때 평균 rmse : 339.5967\n",
      "alpha 값  0.1 일때 평균 rmse : 337.4481\n",
      "alpha 값  1 일때 평균 rmse : 330.4727\n",
      "alpha 값  10 일때 평균 rmse : 329.2807\n",
      "alpha 값  100 일때 평균 rmse : 405.4389\n"
     ]
    }
   ],
   "source": [
    "from sklearn.linear_model import Ridge\n",
    "from sklearn.model_selection import cross_val_score\n",
    "\n",
    "alphas = [0,0.1,1,10,100]\n",
    "\n",
    "for alpha in alphas:\n",
    "    ridge = Ridge(alpha=alpha)\n",
    "    \n",
    "    neg_mse_scores = cross_val_score(ridge, train, train_label, scoring = 'neg_mean_squared_error', cv = 5)\n",
    "    avg_rmse = np.mean(np.sqrt(-neg_mse_scores))\n",
    "    print('alpha 값 ', alpha, '일때 평균 rmse :', np.round(avg_rmse,4))"
   ]
  },
  {
   "cell_type": "code",
   "execution_count": 10,
   "id": "347c065e",
   "metadata": {},
   "outputs": [],
   "source": [
    "ridge = Ridge(alpha = 10)\n",
    "ridge.fit(train, train_label)\n",
    "sample_submission = pd.read_csv('./sample_submission.csv')\n",
    "sample_submission['Body Mass (g)'] = ridge.predict(test)\n",
    "sample_submission.to_csv('Penguin_final_1.csv',index=False)"
   ]
  },
  {
   "cell_type": "code",
   "execution_count": null,
   "id": "0442f51e",
   "metadata": {},
   "outputs": [],
   "source": []
  }
 ],
 "metadata": {
  "kernelspec": {
   "display_name": "Python 3",
   "language": "python",
   "name": "python3"
  },
  "language_info": {
   "codemirror_mode": {
    "name": "ipython",
    "version": 3
   },
   "file_extension": ".py",
   "mimetype": "text/x-python",
   "name": "python",
   "nbconvert_exporter": "python",
   "pygments_lexer": "ipython3",
   "version": "3.8.8"
  }
 },
 "nbformat": 4,
 "nbformat_minor": 5
}
